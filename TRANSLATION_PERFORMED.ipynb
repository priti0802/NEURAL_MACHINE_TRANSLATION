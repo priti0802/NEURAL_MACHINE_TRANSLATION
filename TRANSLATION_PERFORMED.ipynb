{
 "cells": [
  {
   "cell_type": "code",
   "execution_count": 46,
   "metadata": {},
   "outputs": [],
   "source": [
    "import tensorflow as tf\n",
    "\n",
    "import matplotlib.pyplot as plt\n",
    "import matplotlib.ticker as ticker\n",
    "from sklearn.model_selection import train_test_split\n",
    "\n",
    "import unicodedata\n",
    "import re\n",
    "import numpy as np\n",
    "import os\n",
    "import io\n",
    "import time"
   ]
  },
  {
   "cell_type": "code",
   "execution_count": 47,
   "metadata": {},
   "outputs": [],
   "source": [
    "path_to_file=\"hin-eng/hin.txt\""
   ]
  },
  {
   "cell_type": "code",
   "execution_count": 48,
   "metadata": {},
   "outputs": [],
   "source": [
    "#to convert unicode to ascii\n",
    "def unicode_to_ascii(s):\n",
    "    text = s.encode('utf-8').decode('utf-8')\n",
    "    return text\n",
    "#preprcessing with turning specific characters\n",
    "def preprocess_sentence(w):\n",
    "    w = unicode_to_ascii(w.lower().strip())\n",
    "\n",
    "    # creating a space between a word and the punctuation following it\n",
    "    # eg: \"he is a boy.\" => \"he is a boy .\"\n",
    "    # Reference:- https://stackoverflow.com/questions/3645931/python-padding-punctuation-with-white-spaces-keeping-punctuation\n",
    "    w = re.sub(r\"([?.!,¿])\", r\" \\1 \", w)\n",
    "    w = re.sub(r'[\" \"]+', \" \", w)\n",
    "\n",
    "    # replacing everything with space except (a-z, A-Z, \".\", \"?\", \"!\", \",\")\n",
    "\n",
    "    w = w.strip()\n",
    "\n",
    "    # adding a start and an end token to the sentence\n",
    "    # so that the model know when to start and stop predicting.\n",
    "    w = '<start> ' + w + ' <end>'\n",
    "    return w    "
   ]
  },
  {
   "cell_type": "code",
   "execution_count": 49,
   "metadata": {},
   "outputs": [
    {
     "name": "stdout",
     "output_type": "stream",
     "text": [
      "<start> may i borrow this book ? <end>\n",
      "<start> क्या मैं यह पुस्तक उधार ले सकता हूँ ? <end>\n"
     ]
    }
   ],
   "source": [
    "en_sentence = u\"May I borrow this book?\"\n",
    "hn_sentence = u\"क्या मैं यह पुस्तक उधार ले सकता हूँ?\"\n",
    "print(preprocess_sentence(en_sentence))\n",
    "print(preprocess_sentence(hn_sentence))"
   ]
  },
  {
   "cell_type": "code",
   "execution_count": 50,
   "metadata": {},
   "outputs": [],
   "source": [
    "\"\"\"\n",
    "1.Remove the accents\n",
    "2.clean the sentences\n",
    "3.Return the sentense in this seq[English,hindi]\n",
    "\"\"\"\n",
    "def create_dataset(path,num_examples):\n",
    "    lines=io.open(path,encoding='UTF-8').read().strip().split('\\n')\n",
    "    \n",
    "    \n",
    "    word_pairs = [[preprocess_sentence(w) for w in l.split('\\t')]  for l in lines[:num_examples]]\n",
    "    \n",
    "    return zip(*word_pairs)"
   ]
  },
  {
   "cell_type": "code",
   "execution_count": 51,
   "metadata": {},
   "outputs": [
    {
     "name": "stdout",
     "output_type": "stream",
     "text": [
      "<start> when i was a kid , touching bugs didn't bother me a bit . now i can hardly stand looking at pictures of them . <end>\n",
      "<start> जब मैं बच्चा था , मुझे कीड़ों को छूने से कोई परेशानी नहीं होती थी , पर अब मैं उनकी तस्वीरें देखना भी बर्दाश्त नहीं कर सकता। <end>\n"
     ]
    }
   ],
   "source": [
    "en,hn,un = create_dataset(path_to_file,None)\n",
    "print(en[-1])\n",
    "print(hn[-1])"
   ]
  },
  {
   "cell_type": "code",
   "execution_count": 52,
   "metadata": {},
   "outputs": [],
   "source": [
    "def tokenize(lang):\n",
    "    lang_tokenizer=tf.keras.preprocessing.text.Tokenizer(\n",
    "        filters=''\n",
    "    )\n",
    "    lang_tokenizer.fit_on_texts(lang)\n",
    "    tensors = lang_tokenizer.texts_to_sequences(lang)\n",
    "    tensors = tf.keras.preprocessing.sequence.pad_sequences(tensors,padding='post')\n",
    "    \n",
    "    return tensors,lang_tokenizer"
   ]
  },
  {
   "cell_type": "code",
   "execution_count": 53,
   "metadata": {},
   "outputs": [],
   "source": [
    "#defning the load datase function that will carry all the above three functions:)\n",
    "def load_dataset(path,num_examples=None):\n",
    "    inp_lang,targ_lang,unwanted = create_dataset(path,num_examples)\n",
    "    \n",
    "    input_tensor,input_language_tokenizer = tokenize(inp_lang)\n",
    "    target_tensor,targ_lang_tokenizer = tokenize(targ_lang)\n",
    "    \n",
    "    return input_tensor,target_tensor,input_language_tokenizer,targ_lang_tokenizer"
   ]
  },
  {
   "cell_type": "code",
   "execution_count": 54,
   "metadata": {},
   "outputs": [],
   "source": [
    "\"\"\"\n",
    "limiting the examples so that training can be faster\n",
    "there are >100000 sentences in data set to compile we are selecting\n",
    "40000 but compromising the the quality \n",
    "TODO change the num example to None in releasing patterns\n",
    "\"\"\"\n",
    "\n",
    "num_examples=30000\n",
    "input_tensor,target_tensor,inp_lang,targ_lang = load_dataset(path_to_file,num_examples)\n",
    "\n",
    "#max length of target tensors\n",
    "max_length_targ,max_length_inp = target_tensor.shape[1],input_tensor.shape[1]"
   ]
  },
  {
   "cell_type": "code",
   "execution_count": null,
   "metadata": {},
   "outputs": [],
   "source": []
  },
  {
   "cell_type": "code",
   "execution_count": null,
   "metadata": {},
   "outputs": [],
   "source": []
  },
  {
   "cell_type": "code",
   "execution_count": null,
   "metadata": {},
   "outputs": [],
   "source": []
  },
  {
   "cell_type": "code",
   "execution_count": null,
   "metadata": {},
   "outputs": [],
   "source": []
  },
  {
   "cell_type": "code",
   "execution_count": 55,
   "metadata": {},
   "outputs": [],
   "source": [
    "BUFFER_SIZE=len(input_tensor_train)\n",
    "BATCH_SIZE = 64\n",
    "steps_per_epoch = len(input_tensor_train)//BATCH_SIZE\n",
    "embedin_dim = 256\n",
    "units=1024\n",
    "vocab_inp_size=len(inp_lang.word_index)+1\n",
    "vocab_tar_size=len(targ_lang.word_index)+1"
   ]
  },
  {
   "cell_type": "code",
   "execution_count": null,
   "metadata": {},
   "outputs": [],
   "source": []
  },
  {
   "cell_type": "code",
   "execution_count": 56,
   "metadata": {},
   "outputs": [],
   "source": [
    "class Encoder(tf.keras.Model):\n",
    "    def __init__(self,vocab_size,embedding_dim,enc_units,batch_sz):\n",
    "        super(Encoder,self).__init__()\n",
    "        self.batch_sz = batch_sz\n",
    "        self.enc_units = enc_units\n",
    "        self.embedding = tf.keras.layers.Embedding(vocab_size,embedin_dim)\n",
    "        self.gru = tf.keras.layers.GRU(\n",
    "            self.enc_units,\n",
    "            return_sequences=True,\n",
    "            return_state=True,\n",
    "            recurrent_initializer='glorot_uniform'\n",
    "        )\n",
    "        \n",
    "    def call(self,x,hidden):\n",
    "        #x is our input\n",
    "        x=self.embedding(x)\n",
    "        output,state = self.gru(x,initial_state=hidden)\n",
    "        return output,state\n",
    "    def initialize_hidden_state(self):\n",
    "        return tf.zeros((self.batch_sz,self.enc_units))"
   ]
  },
  {
   "cell_type": "code",
   "execution_count": 57,
   "metadata": {},
   "outputs": [],
   "source": [
    "encoder = Encoder(vocab_inp_size,embedin_dim,units,BATCH_SIZE)\n"
   ]
  },
  {
   "cell_type": "code",
   "execution_count": 58,
   "metadata": {},
   "outputs": [
    {
     "data": {
      "text/plain": [
       "<tensorflow.python.training.tracking.util.CheckpointLoadStatus at 0x1df46822288>"
      ]
     },
     "execution_count": 58,
     "metadata": {},
     "output_type": "execute_result"
    }
   ],
   "source": [
    "encoder.load_weights(\"encoder_weights/encoder_weights2\")"
   ]
  },
  {
   "cell_type": "markdown",
   "metadata": {},
   "source": [
    "# I am Using the Bahdanau Attention for encoding the parameters are:-\n",
    "* FC = Fully connected (dense) layer\n",
    "* EO = Encoder output\n",
    "* H = hidden state\n",
    "* X = input to the decoder\n",
    "* The pseudo code for each is:-\n",
    "* 1)score = FC(tanh(FC(EO) + FC(H)))\n",
    "* 2)attention weights = softmax(score, axis = 1)\n",
    "* 3)context vector = sum(attention weights * EO, axis = 1)\n",
    "* 4)embedding output = It is got from the input passed to the Decoder Embedding Layer.\n",
    "* 5)merged vector = concat(embedding output, context vector)\n",
    "* note:-\n",
    "* This merged vector is then passed to gru layer as hidden state\n",
    "* note:-\n",
    "* axis=1 is there because we have to make change accross the max_len field so we took axis 1"
   ]
  },
  {
   "cell_type": "code",
   "execution_count": 59,
   "metadata": {},
   "outputs": [],
   "source": [
    "class BahdanauAttention(tf.keras.layers.Layer):\n",
    "    def __init__(self,units):\n",
    "        super(BahdanauAttention,self).__init__()\n",
    "        self.w1=tf.keras.layers.Dense(units)\n",
    "        self.w2=tf.keras.layers.Dense(units)\n",
    "        self.V = tf.keras.layers.Dense(1)\n",
    "        \n",
    "    def call(self,query,values):\n",
    "        #we will be doing it to get addition along the time axis to calculate the score\n",
    "        query_with_time_axis = tf.expand_dims(query,1)\n",
    "        \n",
    "        #shape of the score will be(batchsize,maxlength,1)\n",
    "        #1 is because it is passing through the final dense layer having units ==1\n",
    "        # the shape of the tensor before applying self.V is (batch_size, max_length, units)\n",
    "        score = self.V(tf.nn.tanh(self.w1(query_with_time_axis)+self.w2(values)))\n",
    "        # attention_weights shape == (batch_size, max_length, 1)\n",
    "        attention_weights = tf.nn.softmax(score,axis=1)\n",
    "        # context_vector shape after sum == (batch_size, hidden_size)\n",
    "        context_vector=attention_weights * values\n",
    "        context_vector=tf.reduce_sum(context_vector,axis=1)\n",
    "        \n",
    "        return context_vector,attention_weights"
   ]
  },
  {
   "cell_type": "code",
   "execution_count": null,
   "metadata": {},
   "outputs": [],
   "source": []
  },
  {
   "cell_type": "code",
   "execution_count": 60,
   "metadata": {},
   "outputs": [],
   "source": [
    "class Decoder(tf.keras.Model):\n",
    "    def __init__(self,vocab_size,embedding_dim,dec_units,batch_sz):\n",
    "        super(Decoder,self).__init__()\n",
    "        self.batch_sz=batch_sz\n",
    "        self.dec_units=dec_units\n",
    "        self.embedding = tf.keras.layers.Embedding(vocab_size,embedding_dim)\n",
    "        self.gru=tf.keras.layers.GRU(\n",
    "            self.dec_units,\n",
    "            return_sequences=True,\n",
    "            return_state=True,\n",
    "            recurrent_initializer='glorot_uniform'\n",
    "        )\n",
    "        self.fc=tf.keras.layers.Dense(\n",
    "            vocab_size\n",
    "        )\n",
    "        \n",
    "        #used for attention\n",
    "        self.attention = BahdanauAttention(self.dec_units)\n",
    "    def call(self,x,hidden,enc_output):\n",
    "        context_vector,attention_weights=self.attention(hidden,enc_output)\n",
    "        \n",
    "        x=self.embedding(x)\n",
    "        # x shape after concatenation == (batch_size, 1, embedding_dim + hidden_size)\n",
    "        x = tf.concat([tf.expand_dims(context_vector, 1), x], axis=-1)\n",
    "        output,state = self.gru(x)\n",
    "        output=tf.reshape(output,(-1,output.shape[2]))\n",
    "        \n",
    "        x = self.fc(output)\n",
    "        \n",
    "        return x,state,attention_weights"
   ]
  },
  {
   "cell_type": "code",
   "execution_count": 61,
   "metadata": {},
   "outputs": [
    {
     "data": {
      "text/plain": [
       "<tensorflow.python.training.tracking.util.CheckpointLoadStatus at 0x1df4683c888>"
      ]
     },
     "execution_count": 61,
     "metadata": {},
     "output_type": "execute_result"
    }
   ],
   "source": [
    "decoder = Decoder(vocab_tar_size, embedin_dim, units, BATCH_SIZE)\n",
    "decoder.load_weights(\"decoder_weights/decoder_weights2\")\n",
    "\n"
   ]
  },
  {
   "cell_type": "code",
   "execution_count": null,
   "metadata": {},
   "outputs": [],
   "source": []
  },
  {
   "cell_type": "code",
   "execution_count": null,
   "metadata": {},
   "outputs": [],
   "source": []
  },
  {
   "cell_type": "code",
   "execution_count": null,
   "metadata": {},
   "outputs": [],
   "source": []
  },
  {
   "cell_type": "code",
   "execution_count": null,
   "metadata": {},
   "outputs": [],
   "source": []
  },
  {
   "cell_type": "code",
   "execution_count": 62,
   "metadata": {},
   "outputs": [],
   "source": [
    "def evaluate(sentence):\n",
    "    attention_plot = np.zeros((max_length_targ,max_length_inp))\n",
    "    \n",
    "    sentence = preprocess_sentence(sentence)\n",
    "    inputs = [inp_lang.word_index[i] for i in sentence.split(\" \")]\n",
    "    inputs=tf.keras.preprocessing.sequence.pad_sequences([inputs],maxlen=max_length_inp,padding='post')\n",
    "    inputs = tf.convert_to_tensor(inputs)\n",
    "    result = ''\n",
    "    \n",
    "    hidden = [tf.zeros((1, units))]\n",
    "    enc_out, enc_hidden = encoder(inputs, hidden)\n",
    "    dec_hidden = enc_hidden\n",
    "    dec_input = tf.expand_dims([targ_lang.word_index['<start>']], 0)\n",
    "    for t in range(max_length_targ):\n",
    "        predictions, dec_hidden, attention_weights = decoder(dec_input,\n",
    "                                                         dec_hidden,\n",
    "                                                         enc_out)\n",
    "        #storing the attention weights\n",
    "        attention_weights = tf.reshape(attention_weights, (-1, ))\n",
    "        attention_plot[t] = attention_weights.numpy()\n",
    "\n",
    "        predicted_id = tf.argmax(predictions[0]).numpy()\n",
    "        result += targ_lang.index_word[predicted_id] + ' '\n",
    "        if targ_lang.index_word[predicted_id] == '<end>':\n",
    "            return result, sentence, attention_plot\n",
    "        dec_input = tf.expand_dims([predicted_id], 0)\n",
    "    \n",
    "    return result, sentence, attention_plot\n",
    "    "
   ]
  },
  {
   "cell_type": "code",
   "execution_count": 63,
   "metadata": {},
   "outputs": [],
   "source": [
    "# function for plotting the attention weights\n",
    "def plot_attention(attention, sentence, predicted_sentence):\n",
    "    fig = plt.figure(figsize=(10,10))\n",
    "    ax = fig.add_subplot(1, 1, 1)\n",
    "    ax.matshow(attention, cmap='viridis')\n",
    "\n",
    "    fontdict = {'fontsize': 14}\n",
    "\n",
    "    ax.set_xticklabels([''] + sentence, fontdict=fontdict, rotation=90)\n",
    "    ax.set_yticklabels([''] + predicted_sentence, fontdict=fontdict)\n",
    "\n",
    "    ax.xaxis.set_major_locator(ticker.MultipleLocator(1))\n",
    "    ax.yaxis.set_major_locator(ticker.MultipleLocator(1))\n",
    "\n",
    "    plt.show()"
   ]
  },
  {
   "cell_type": "code",
   "execution_count": 64,
   "metadata": {},
   "outputs": [],
   "source": [
    "def translate(sentence):\n",
    "    result, sentence, attention_plot = evaluate(sentence)\n",
    "    result = preprocess_sentence(result)\n",
    "    print('Input: %s' % (sentence))\n",
    "    print('Predicted translation: {}'.format(result))"
   ]
  },
  {
   "cell_type": "code",
   "execution_count": 65,
   "metadata": {},
   "outputs": [
    {
     "name": "stdout",
     "output_type": "stream",
     "text": [
      "Input: <start> he came running . <end>\n",
      "Predicted translation: <start> वह भागते हुए आया। <end> <end>\n"
     ]
    }
   ],
   "source": [
    "translate(u'He came running.')"
   ]
  },
  {
   "cell_type": "code",
   "execution_count": 37,
   "metadata": {},
   "outputs": [
    {
     "name": "stdout",
     "output_type": "stream",
     "text": [
      "Input: <start> i love you . <end>\n",
      "Predicted translation: <start> मैं आपसे प्यार करता हूँ। <end> <end>\n"
     ]
    }
   ],
   "source": [
    "translate(u'I love you.')"
   ]
  },
  {
   "cell_type": "code",
   "execution_count": 38,
   "metadata": {},
   "outputs": [
    {
     "name": "stdout",
     "output_type": "stream",
     "text": [
      "Input: <start> did you miss me ? <end>\n",
      "Predicted translation: <start> मेरी याद आई क्या ? <end> <end>\n"
     ]
    }
   ],
   "source": [
    "translate(u'Did you miss me?')"
   ]
  },
  {
   "cell_type": "code",
   "execution_count": 39,
   "metadata": {},
   "outputs": [
    {
     "name": "stdout",
     "output_type": "stream",
     "text": [
      "Input: <start> a man must work . <end>\n",
      "Predicted translation: <start> एक आदमी के लिए काम करना ज़रूरी है। <end> <end>\n"
     ]
    }
   ],
   "source": [
    "translate(u'A man must work.')"
   ]
  },
  {
   "cell_type": "code",
   "execution_count": 40,
   "metadata": {},
   "outputs": [
    {
     "name": "stdout",
     "output_type": "stream",
     "text": [
      "Input: <start> he reads arabic <end>\n",
      "Predicted translation: <start> वह अरबी पढ़ सकता है। <end> <end>\n"
     ]
    }
   ],
   "source": [
    "translate(u'He reads Arabic')\n"
   ]
  },
  {
   "cell_type": "code",
   "execution_count": 41,
   "metadata": {},
   "outputs": [
    {
     "name": "stdout",
     "output_type": "stream",
     "text": [
      "Input: <start> i feel nauseous . <end>\n",
      "Predicted translation: <start> मुझे उल्टी आ रही है। <end> <end>\n"
     ]
    }
   ],
   "source": [
    "translate(\"I feel nauseous.\")"
   ]
  },
  {
   "cell_type": "code",
   "execution_count": 42,
   "metadata": {},
   "outputs": [
    {
     "name": "stdout",
     "output_type": "stream",
     "text": [
      "Input: <start> awesome ! <end>\n",
      "Predicted translation: <start> बहुत बढ़िया ! <end> <end>\n"
     ]
    }
   ],
   "source": [
    "translate(u'Awesome!')"
   ]
  },
  {
   "cell_type": "code",
   "execution_count": 43,
   "metadata": {},
   "outputs": [
    {
     "name": "stdout",
     "output_type": "stream",
     "text": [
      "Input: <start> flowers bloom . <end>\n",
      "Predicted translation: <start> फूल खिलते हैं। <end> <end>\n"
     ]
    }
   ],
   "source": [
    "translate(u'Flowers bloom.')"
   ]
  },
  {
   "cell_type": "code",
   "execution_count": 44,
   "metadata": {},
   "outputs": [
    {
     "name": "stdout",
     "output_type": "stream",
     "text": [
      "Input: <start> come in . <end>\n",
      "Predicted translation: <start> अंदर आ जाओ। <end> <end>\n"
     ]
    }
   ],
   "source": [
    "translate(u'Come in.')"
   ]
  },
  {
   "cell_type": "code",
   "execution_count": 45,
   "metadata": {},
   "outputs": [
    {
     "name": "stdout",
     "output_type": "stream",
     "text": [
      "Input: <start> fantastic ! <end>\n",
      "Predicted translation: <start> बहुत ख़ूब ! <end> <end>\n"
     ]
    }
   ],
   "source": [
    "translate(u'Fantastic!')"
   ]
  },
  {
   "cell_type": "code",
   "execution_count": 138,
   "metadata": {},
   "outputs": [
    {
     "name": "stdout",
     "output_type": "stream",
     "text": [
      "Input: <start> mother teresa was a catholic nun who lived and worked in calcutta , india . <end>\n",
      "Predicted translation: <start> मदर टेरेसा एक कैथोलिक नन थीं जो कलकत्ता में रहतीं और काम करतीं थीं। <end> <end>\n"
     ]
    }
   ],
   "source": [
    "translate(u'Mother Teresa was a Catholic nun who lived and worked in Calcutta, India.')"
   ]
  },
  {
   "cell_type": "code",
   "execution_count": 139,
   "metadata": {},
   "outputs": [
    {
     "name": "stdout",
     "output_type": "stream",
     "text": [
      "Input: <start> in 1951 , sister teresa was sent to calcutta , then the largest city in india . <end>\n",
      "Predicted translation: <start> १९५१ में सिस्टर टेरेसा को कलकत्ता भेजा गया था , जो उस समय भारत का सबसे बड़ा शहर था। <end> <end>\n"
     ]
    }
   ],
   "source": [
    "translate(u'In 1951, Sister Teresa was sent to Calcutta, then the largest city in India.')"
   ]
  },
  {
   "cell_type": "code",
   "execution_count": 35,
   "metadata": {},
   "outputs": [
    {
     "name": "stdout",
     "output_type": "stream",
     "text": [
      "Input: <start> i bought two bottles of milk . <end>\n",
      "Predicted translation: <start> मैंने रातभर काम किया। <end> <end>\n"
     ]
    }
   ],
   "source": [
    "translate(u'I bought two bottles of milk.')"
   ]
  },
  {
   "cell_type": "raw",
   "metadata": {},
   "source": [
    "tran"
   ]
  },
  {
   "cell_type": "code",
   "execution_count": 145,
   "metadata": {},
   "outputs": [
    {
     "name": "stdout",
     "output_type": "stream",
     "text": [
      "Input: <start> i am pleased with the result . <end>\n",
      "Predicted translation: <start> मैं नतीजे से खुश हूँ। <end> <end>\n"
     ]
    }
   ],
   "source": [
    "translate(u'I am pleased with the result.')"
   ]
  },
  {
   "cell_type": "code",
   "execution_count": null,
   "metadata": {},
   "outputs": [],
   "source": []
  }
 ],
 "metadata": {
  "kernelspec": {
   "display_name": "Python 3",
   "language": "python",
   "name": "python3"
  },
  "language_info": {
   "codemirror_mode": {
    "name": "ipython",
    "version": 3
   },
   "file_extension": ".py",
   "mimetype": "text/x-python",
   "name": "python",
   "nbconvert_exporter": "python",
   "pygments_lexer": "ipython3",
   "version": "3.7.6"
  }
 },
 "nbformat": 4,
 "nbformat_minor": 4
}
